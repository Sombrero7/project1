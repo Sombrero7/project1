{
 "cells": [
  {
   "cell_type": "code",
   "execution_count": 1,
   "metadata": {},
   "outputs": [
    {
     "name": "stdout",
     "output_type": "stream",
     "text": [
      "README.md        Untitled1.ipynb  Untitled3.ipynb  df_q1.csv\r\n",
      "Untitled.ipynb   Untitled2.ipynb  df4.csv          \u001b[34mzippedData\u001b[m\u001b[m/\r\n"
     ]
    }
   ],
   "source": [
    "ls"
   ]
  },
  {
   "cell_type": "code",
   "execution_count": 9,
   "metadata": {},
   "outputs": [],
   "source": [
    "import pandas as pd\n",
    "import matplotlib.pyplot as plt"
   ]
  },
  {
   "cell_type": "code",
   "execution_count": 10,
   "metadata": {},
   "outputs": [
    {
     "data": {
      "text/html": [
       "<div>\n",
       "<style scoped>\n",
       "    .dataframe tbody tr th:only-of-type {\n",
       "        vertical-align: middle;\n",
       "    }\n",
       "\n",
       "    .dataframe tbody tr th {\n",
       "        vertical-align: top;\n",
       "    }\n",
       "\n",
       "    .dataframe thead th {\n",
       "        text-align: right;\n",
       "    }\n",
       "</style>\n",
       "<table border=\"1\" class=\"dataframe\">\n",
       "  <thead>\n",
       "    <tr style=\"text-align: right;\">\n",
       "      <th></th>\n",
       "      <th>index</th>\n",
       "      <th>id</th>\n",
       "      <th>release_date</th>\n",
       "      <th>production_budget</th>\n",
       "      <th>worldwide_gross</th>\n",
       "      <th>genre_ids</th>\n",
       "    </tr>\n",
       "  </thead>\n",
       "  <tbody>\n",
       "    <tr>\n",
       "      <th>0</th>\n",
       "      <td>#Horror</td>\n",
       "      <td>16</td>\n",
       "      <td>2015</td>\n",
       "      <td>1500000</td>\n",
       "      <td>0</td>\n",
       "      <td>Drama</td>\n",
       "    </tr>\n",
       "    <tr>\n",
       "      <th>1</th>\n",
       "      <td>#Horror</td>\n",
       "      <td>16</td>\n",
       "      <td>2015</td>\n",
       "      <td>1500000</td>\n",
       "      <td>0</td>\n",
       "      <td>Mystery</td>\n",
       "    </tr>\n",
       "    <tr>\n",
       "      <th>2</th>\n",
       "      <td>#Horror</td>\n",
       "      <td>16</td>\n",
       "      <td>2015</td>\n",
       "      <td>1500000</td>\n",
       "      <td>0</td>\n",
       "      <td>Horror</td>\n",
       "    </tr>\n",
       "    <tr>\n",
       "      <th>3</th>\n",
       "      <td>#Horror</td>\n",
       "      <td>16</td>\n",
       "      <td>2015</td>\n",
       "      <td>1500000</td>\n",
       "      <td>0</td>\n",
       "      <td>Thriller</td>\n",
       "    </tr>\n",
       "    <tr>\n",
       "      <th>4</th>\n",
       "      <td>10 Cloverfield Lane</td>\n",
       "      <td>54</td>\n",
       "      <td>2016</td>\n",
       "      <td>5000000</td>\n",
       "      <td>108286422</td>\n",
       "      <td>Thriller</td>\n",
       "    </tr>\n",
       "    <tr>\n",
       "      <th>...</th>\n",
       "      <td>...</td>\n",
       "      <td>...</td>\n",
       "      <td>...</td>\n",
       "      <td>...</td>\n",
       "      <td>...</td>\n",
       "      <td>...</td>\n",
       "    </tr>\n",
       "    <tr>\n",
       "      <th>5463</th>\n",
       "      <td>mother!</td>\n",
       "      <td>59</td>\n",
       "      <td>2017</td>\n",
       "      <td>30000000</td>\n",
       "      <td>42531076</td>\n",
       "      <td>Horror</td>\n",
       "    </tr>\n",
       "    <tr>\n",
       "      <th>5464</th>\n",
       "      <td>mother!</td>\n",
       "      <td>59</td>\n",
       "      <td>2017</td>\n",
       "      <td>30000000</td>\n",
       "      <td>42531076</td>\n",
       "      <td>Mystery</td>\n",
       "    </tr>\n",
       "    <tr>\n",
       "      <th>5465</th>\n",
       "      <td>xXx: Return of Xander Cage</td>\n",
       "      <td>15</td>\n",
       "      <td>2017</td>\n",
       "      <td>85000000</td>\n",
       "      <td>345033359</td>\n",
       "      <td>Action</td>\n",
       "    </tr>\n",
       "    <tr>\n",
       "      <th>5466</th>\n",
       "      <td>xXx: Return of Xander Cage</td>\n",
       "      <td>15</td>\n",
       "      <td>2017</td>\n",
       "      <td>85000000</td>\n",
       "      <td>345033359</td>\n",
       "      <td>Adventure</td>\n",
       "    </tr>\n",
       "    <tr>\n",
       "      <th>5467</th>\n",
       "      <td>xXx: Return of Xander Cage</td>\n",
       "      <td>15</td>\n",
       "      <td>2017</td>\n",
       "      <td>85000000</td>\n",
       "      <td>345033359</td>\n",
       "      <td>Crime</td>\n",
       "    </tr>\n",
       "  </tbody>\n",
       "</table>\n",
       "<p>5468 rows × 6 columns</p>\n",
       "</div>"
      ],
      "text/plain": [
       "                           index  id  release_date  production_budget  \\\n",
       "0                        #Horror  16          2015            1500000   \n",
       "1                        #Horror  16          2015            1500000   \n",
       "2                        #Horror  16          2015            1500000   \n",
       "3                        #Horror  16          2015            1500000   \n",
       "4            10 Cloverfield Lane  54          2016            5000000   \n",
       "...                          ...  ..           ...                ...   \n",
       "5463                     mother!  59          2017           30000000   \n",
       "5464                     mother!  59          2017           30000000   \n",
       "5465  xXx: Return of Xander Cage  15          2017           85000000   \n",
       "5466  xXx: Return of Xander Cage  15          2017           85000000   \n",
       "5467  xXx: Return of Xander Cage  15          2017           85000000   \n",
       "\n",
       "      worldwide_gross  genre_ids  \n",
       "0                   0      Drama  \n",
       "1                   0    Mystery  \n",
       "2                   0     Horror  \n",
       "3                   0   Thriller  \n",
       "4           108286422   Thriller  \n",
       "...               ...        ...  \n",
       "5463         42531076     Horror  \n",
       "5464         42531076    Mystery  \n",
       "5465        345033359     Action  \n",
       "5466        345033359  Adventure  \n",
       "5467        345033359      Crime  \n",
       "\n",
       "[5468 rows x 6 columns]"
      ]
     },
     "execution_count": 10,
     "metadata": {},
     "output_type": "execute_result"
    }
   ],
   "source": [
    " df = pd.read_csv('df4.csv')\n",
    "df"
   ]
  },
  {
   "cell_type": "markdown",
   "metadata": {},
   "source": [
    "# Creating new columns to establish the profit made on movie and if the movie was profitable "
   ]
  },
  {
   "cell_type": "code",
   "execution_count": 516,
   "metadata": {},
   "outputs": [],
   "source": [
    "df['profit'] = df['worldwide_gross'] - df['production_budget']\n",
    "df['profitable'] = (df['worldwide_gross'] >= 2* df['production_budget'])\n",
    "\n",
    " "
   ]
  },
  {
   "cell_type": "markdown",
   "metadata": {},
   "source": [
    "# Transforming the dataset to relevant years"
   ]
  },
  {
   "cell_type": "code",
   "execution_count": 576,
   "metadata": {},
   "outputs": [],
   "source": [
    "#df1 = df.loc[:, ['production_budget','worldwide_gross','genre_ids','release_date','profit']]\n",
    "#df2 = df1.loc[:, ['profit','genre_ids']]\n",
    "df3 = df[(df['release_date'] >= 2012) & (df['release_date'] <= 2015)]\n",
    "df4 = df[(df['release_date'] >= 2016) & (df['release_date'] < 2019)]"
   ]
  },
  {
   "cell_type": "markdown",
   "metadata": {},
   "source": [
    "# Isolating the genres I want to put in use "
   ]
  },
  {
   "cell_type": "code",
   "execution_count": 517,
   "metadata": {},
   "outputs": [],
   "source": [
    " # 2013-2015\n",
    "d = df3.loc[df3['genre_ids'] == 'Drama'] \n",
    "a = df3.loc[df3['genre_ids'] == 'Action'] \n",
    "\n",
    "  #2016 -2018\n",
    "d1 = df4.loc[df4['genre_ids'] == 'Drama'] \n",
    "a1 = df4.loc[df4['genre_ids'] == 'Action'] "
   ]
  },
  {
   "cell_type": "markdown",
   "metadata": {},
   "source": [
    "# Isolating to just the profit column"
   ]
  },
  {
   "cell_type": "code",
   "execution_count": 446,
   "metadata": {},
   "outputs": [],
   "source": [
    "dp = d['profit'] #drama movie profit\n",
    "\n",
    "ap = a['profit'] #action movie profit\n",
    "\n",
    "d1p = d1['profit'] #drama movie profit(2016-2018)\n",
    "\n",
    "a1p = a1['profit'] #action movie profit(2016-2018)"
   ]
  },
  {
   "cell_type": "markdown",
   "metadata": {},
   "source": [
    "# Comparing the profit made on drama movies over 6 years"
   ]
  },
  {
   "cell_type": "code",
   "execution_count": 562,
   "metadata": {},
   "outputs": [
    {
     "name": "stdout",
     "output_type": "stream",
     "text": [
      "This is the average profit made for drama movies from 2012 to 2015: $46986430\n",
      "This is how dispersed the data from 2012 to 2015 is in relation to the mean : 4.69\n",
      "This is the average profit made for drama movies from 2016 to 2018: $58798066\n",
      "This is how dispersed the data from 2016 to 2019 is in relation to the mean : 1.27\n",
      "The average increased by: 25.13839846951556\n"
     ]
    },
    {
     "data": {
      "image/png": "[encoded data removed]",
      "text/plain": [
       "<Figure size 432x288 with 1 Axes>"
      ]
     },
     "metadata": {
      "needs_background": "light"
     },
     "output_type": "display_data"
    }
   ],
   "source": [
    "print('This is the average profit made for drama movies from 2012 to 2015: ${}'.format(int(dp.mean())))\n",
    "print('This is how dispersed the data from 2012 to 2015 is in relation to the mean : 4.69')\n",
    "print('This is the average profit made for drama movies from 2016 to 2018: ${}'.format(int(d1p.mean())))\n",
    "print('This is how dispersed the data from 2016 to 2019 is in relation to the mean : 1.27')\n",
    "print('The average increased by: {}'.format(11811636/46986430 *100))\n",
    "\n",
    "fig = plt.figure()\n",
    "plt.bar(d['release_date'],dp)\n",
    "plt.bar(d1['release_date'],d1p);\n",
    "fig.suptitle('Drama', fontsize=20);\n"
   ]
  },
  {
   "cell_type": "markdown",
   "metadata": {},
   "source": [
    "# Comparing the profit made on Action movies over 6 years"
   ]
  },
  {
   "cell_type": "code",
   "execution_count": 565,
   "metadata": {},
   "outputs": [
    {
     "name": "stdout",
     "output_type": "stream",
     "text": [
      "This is the average profit made for actions movies from 2012 to 2015: $163502551\n",
      "This is how dispersed the data from 2012 to 2015 is in relation to the mean : 2.61\n",
      "This is the average profit made for actions movies from 2016 to 2018: $212700944\n",
      "This is how dispersed the data from 2016 to 2018 is in relation to the mean : 3.23\n",
      "The average increased by: 30.090290762497034\n"
     ]
    },
    {
     "data": {
      "image/png": "[encoded data removed]",
      "text/plain": [
       "<Figure size 432x288 with 1 Axes>"
      ]
     },
     "metadata": {
      "needs_background": "light"
     },
     "output_type": "display_data"
    }
   ],
   "source": [
    "print('This is the average profit made for actions movies from 2012 to 2015: ${}'.format(int(ap.mean())))\n",
    "print('This is how dispersed the data from 2012 to 2015 is in relation to the mean : 2.61')\n",
    "print('This is the average profit made for actions movies from 2016 to 2018: ${}'.format(int(a1p.mean())))\n",
    "print('This is how dispersed the data from 2016 to 2018 is in relation to the mean : 3.23')\n",
    "print('The average increased by: {}'.format((49198393/163502551 *100)))\n",
    "\n",
    "\n",
    "fig = plt.figure()\n",
    "plt.bar(a['release_date'],ap)\n",
    "plt.bar(a1['release_date'],a1p);\n",
    "fig.suptitle('Action', fontsize=20);\n"
   ]
  },
  {
   "cell_type": "markdown",
   "metadata": {},
   "source": [
    "# Isolating the genres I want to put in use "
   ]
  },
  {
   "cell_type": "code",
   "execution_count": 578,
   "metadata": {},
   "outputs": [],
   "source": [
    "t = df3.loc[df3['genre_ids'] == 'Thriller'] \n",
    "ad = df3.loc[df3['genre_ids'] == 'Adventure'] \n",
    "\n",
    "t1 = df4.loc[df4['genre_ids'] == 'Thriller'] \n",
    "ad1 = df4.loc[df4['genre_ids'] == 'Adventure'] "
   ]
  },
  {
   "cell_type": "markdown",
   "metadata": {},
   "source": [
    "# Isolating to just the profit column"
   ]
  },
  {
   "cell_type": "code",
   "execution_count": 579,
   "metadata": {},
   "outputs": [],
   "source": [
    "tp = t['profit']  # thriller movie profit\n",
    "adp = ad['profit'] # adventure movie profit\n",
    "\n",
    "t1p = t1['profit'] # thriller movie profit - (2016-2018)\n",
    "ad1p = ad1['profit']# adventure movie profit - (2016-2018)"
   ]
  },
  {
   "cell_type": "markdown",
   "metadata": {},
   "source": [
    "# Comparing the profit made on Thriller movies over 6 years"
   ]
  },
  {
   "cell_type": "code",
   "execution_count": 575,
   "metadata": {},
   "outputs": [
    {
     "name": "stdout",
     "output_type": "stream",
     "text": [
      "This is the average profit made for thriller movies from 2012 to 2015: $60207664\n",
      "This is how dispersed the data from 2012 to 2015 is in relation to the mean : 1.72\n",
      "This is the average profit made for thriller movies from 2016 to 2018: $73565937\n",
      "This is how dispersed the data from 2016 to 2018 is in relation to the mean : 1.42\n",
      "The average increased by: 22.18699765531511\n"
     ]
    },
    {
     "data": {
      "image/png": "[encoded data removed]",
      "text/plain": [
       "<Figure size 432x288 with 1 Axes>"
      ]
     },
     "metadata": {
      "needs_background": "light"
     },
     "output_type": "display_data"
    }
   ],
   "source": [
    "print('This is the average profit made for thriller movies from 2012 to 2015: ${}'.format(int(tp.mean())))\n",
    "print('This is how dispersed the data from 2012 to 2015 is in relation to the mean : 1.72')\n",
    "print('This is the average profit made for thriller movies from 2016 to 2018: ${}'.format(int(t1p.mean())))\n",
    "print('This is how dispersed the data from 2016 to 2018 is in relation to the mean : 1.42')\n",
    "print('The average increased by: {}'.format(13358273/60207664 *100))\n",
    "\n",
    "fig = plt.figure()\n",
    "plt.bar(t['release_date'],tp)\n",
    "plt.bar(t1['release_date'],t1p);\n",
    "fig.suptitle('Thriller', fontsize=20);\n"
   ]
  },
  {
   "cell_type": "markdown",
   "metadata": {},
   "source": [
    "# Comparing the profit made on Adventure movies over 6 years"
   ]
  },
  {
   "cell_type": "code",
   "execution_count": 577,
   "metadata": {},
   "outputs": [
    {
     "name": "stdout",
     "output_type": "stream",
     "text": [
      "This is the average profit made for Adventure movies from 2012 to 2015: $247217835\n",
      "This is how dispersed the data from 2012 to 2015 is in relation to the mean : 3.02\n",
      "This is the average profit made for Adventure movies from 2016 to 2018: $295843771\n",
      "This is how dispersed the data from 2016 to 2018 is in relation to the mean : 3.45\n",
      "The average increased by: 19.669266984722196\n"
     ]
    },
    {
     "data": {
      "image/png": "[encoded data removed]",
      "text/plain": [
       "<Figure size 432x288 with 1 Axes>"
      ]
     },
     "metadata": {
      "needs_background": "light"
     },
     "output_type": "display_data"
    }
   ],
   "source": [
    "print('This is the average profit made for Adventure movies from 2012 to 2015: ${}'.format(int(adp.mean())))\n",
    "print('This is how dispersed the data from 2012 to 2015 is in relation to the mean : 3.02')\n",
    "print('This is the average profit made for Adventure movies from 2016 to 2018: ${}'.format(int(ad1p.mean())))\n",
    "print('This is how dispersed the data from 2016 to 2018 is in relation to the mean : 3.45')\n",
    "print('The average increased by: {}'.format(48625936/247217835 *100))\n",
    "\n",
    "fig = plt.figure()\n",
    "plt.bar(ad['release_date'],adp)\n",
    "plt.bar(ad1['release_date'],ad1p);\n",
    "fig.suptitle('Adventure', fontsize=20);\n"
   ]
  },
  {
   "cell_type": "code",
   "execution_count": null,
   "metadata": {},
   "outputs": [],
   "source": []
  }
 ],
 "metadata": {
  "kernelspec": {
   "display_name": "python3 (learnenv)",
   "language": "python",
   "name": "learn-env"
  },
  "language_info": {
   "codemirror_mode": {
    "name": "ipython",
    "version": 3
   },
   "file_extension": ".py",
   "mimetype": "text/x-python",
   "name": "python",
   "nbconvert_exporter": "python",
   "pygments_lexer": "ipython3",
   "version": "3.8.5"
  }
 },
 "nbformat": 4,
 "nbformat_minor": 4
}
