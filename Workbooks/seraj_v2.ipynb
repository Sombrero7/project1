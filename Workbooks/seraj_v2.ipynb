{
 "cells": [
  {
   "cell_type": "code",
   "execution_count": 1,
   "metadata": {},
   "outputs": [
    {
     "name": "stdout",
     "output_type": "stream",
     "text": [
      "Jareds.ipynb             df4.csv                  seraj.ipynb\r\n",
      "README.md                df_q1.csv                weston.ipynb\r\n",
      "data_exploration.ipynb   more_explorations.ipynb  \u001b[34mzippedData\u001b[m\u001b[m/\r\n"
     ]
    }
   ],
   "source": [
    "ls"
   ]
  },
  {
   "cell_type": "code",
   "execution_count": 2,
   "metadata": {},
   "outputs": [],
   "source": [
    "import pandas as pd\n",
    "import matplotlib.pyplot as plt"
   ]
  },
  {
   "cell_type": "code",
   "execution_count": 3,
   "metadata": {},
   "outputs": [
    {
     "data": {
      "text/html": [
       "<div>\n",
       "<style scoped>\n",
       "    .dataframe tbody tr th:only-of-type {\n",
       "        vertical-align: middle;\n",
       "    }\n",
       "\n",
       "    .dataframe tbody tr th {\n",
       "        vertical-align: top;\n",
       "    }\n",
       "\n",
       "    .dataframe thead th {\n",
       "        text-align: right;\n",
       "    }\n",
       "</style>\n",
       "<table border=\"1\" class=\"dataframe\">\n",
       "  <thead>\n",
       "    <tr style=\"text-align: right;\">\n",
       "      <th></th>\n",
       "      <th>index</th>\n",
       "      <th>id</th>\n",
       "      <th>release_date</th>\n",
       "      <th>production_budget</th>\n",
       "      <th>worldwide_gross</th>\n",
       "      <th>genre_ids</th>\n",
       "    </tr>\n",
       "  </thead>\n",
       "  <tbody>\n",
       "    <tr>\n",
       "      <th>0</th>\n",
       "      <td>#Horror</td>\n",
       "      <td>16</td>\n",
       "      <td>2015</td>\n",
       "      <td>1500000</td>\n",
       "      <td>0</td>\n",
       "      <td>Drama</td>\n",
       "    </tr>\n",
       "    <tr>\n",
       "      <th>1</th>\n",
       "      <td>#Horror</td>\n",
       "      <td>16</td>\n",
       "      <td>2015</td>\n",
       "      <td>1500000</td>\n",
       "      <td>0</td>\n",
       "      <td>Mystery</td>\n",
       "    </tr>\n",
       "    <tr>\n",
       "      <th>2</th>\n",
       "      <td>#Horror</td>\n",
       "      <td>16</td>\n",
       "      <td>2015</td>\n",
       "      <td>1500000</td>\n",
       "      <td>0</td>\n",
       "      <td>Horror</td>\n",
       "    </tr>\n",
       "    <tr>\n",
       "      <th>3</th>\n",
       "      <td>#Horror</td>\n",
       "      <td>16</td>\n",
       "      <td>2015</td>\n",
       "      <td>1500000</td>\n",
       "      <td>0</td>\n",
       "      <td>Thriller</td>\n",
       "    </tr>\n",
       "    <tr>\n",
       "      <th>4</th>\n",
       "      <td>10 Cloverfield Lane</td>\n",
       "      <td>54</td>\n",
       "      <td>2016</td>\n",
       "      <td>5000000</td>\n",
       "      <td>108286422</td>\n",
       "      <td>Thriller</td>\n",
       "    </tr>\n",
       "    <tr>\n",
       "      <th>...</th>\n",
       "      <td>...</td>\n",
       "      <td>...</td>\n",
       "      <td>...</td>\n",
       "      <td>...</td>\n",
       "      <td>...</td>\n",
       "      <td>...</td>\n",
       "    </tr>\n",
       "    <tr>\n",
       "      <th>5463</th>\n",
       "      <td>mother!</td>\n",
       "      <td>59</td>\n",
       "      <td>2017</td>\n",
       "      <td>30000000</td>\n",
       "      <td>42531076</td>\n",
       "      <td>Horror</td>\n",
       "    </tr>\n",
       "    <tr>\n",
       "      <th>5464</th>\n",
       "      <td>mother!</td>\n",
       "      <td>59</td>\n",
       "      <td>2017</td>\n",
       "      <td>30000000</td>\n",
       "      <td>42531076</td>\n",
       "      <td>Mystery</td>\n",
       "    </tr>\n",
       "    <tr>\n",
       "      <th>5465</th>\n",
       "      <td>xXx: Return of Xander Cage</td>\n",
       "      <td>15</td>\n",
       "      <td>2017</td>\n",
       "      <td>85000000</td>\n",
       "      <td>345033359</td>\n",
       "      <td>Action</td>\n",
       "    </tr>\n",
       "    <tr>\n",
       "      <th>5466</th>\n",
       "      <td>xXx: Return of Xander Cage</td>\n",
       "      <td>15</td>\n",
       "      <td>2017</td>\n",
       "      <td>85000000</td>\n",
       "      <td>345033359</td>\n",
       "      <td>Adventure</td>\n",
       "    </tr>\n",
       "    <tr>\n",
       "      <th>5467</th>\n",
       "      <td>xXx: Return of Xander Cage</td>\n",
       "      <td>15</td>\n",
       "      <td>2017</td>\n",
       "      <td>85000000</td>\n",
       "      <td>345033359</td>\n",
       "      <td>Crime</td>\n",
       "    </tr>\n",
       "  </tbody>\n",
       "</table>\n",
       "<p>5468 rows × 6 columns</p>\n",
       "</div>"
      ],
      "text/plain": [
       "                           index  id  release_date  production_budget  \\\n",
       "0                        #Horror  16          2015            1500000   \n",
       "1                        #Horror  16          2015            1500000   \n",
       "2                        #Horror  16          2015            1500000   \n",
       "3                        #Horror  16          2015            1500000   \n",
       "4            10 Cloverfield Lane  54          2016            5000000   \n",
       "...                          ...  ..           ...                ...   \n",
       "5463                     mother!  59          2017           30000000   \n",
       "5464                     mother!  59          2017           30000000   \n",
       "5465  xXx: Return of Xander Cage  15          2017           85000000   \n",
       "5466  xXx: Return of Xander Cage  15          2017           85000000   \n",
       "5467  xXx: Return of Xander Cage  15          2017           85000000   \n",
       "\n",
       "      worldwide_gross  genre_ids  \n",
       "0                   0      Drama  \n",
       "1                   0    Mystery  \n",
       "2                   0     Horror  \n",
       "3                   0   Thriller  \n",
       "4           108286422   Thriller  \n",
       "...               ...        ...  \n",
       "5463         42531076     Horror  \n",
       "5464         42531076    Mystery  \n",
       "5465        345033359     Action  \n",
       "5466        345033359  Adventure  \n",
       "5467        345033359      Crime  \n",
       "\n",
       "[5468 rows x 6 columns]"
      ]
     },
     "execution_count": 3,
     "metadata": {},
     "output_type": "execute_result"
    }
   ],
   "source": [
    " df = pd.read_csv('df4.csv')\n",
    "df"
   ]
  },
  {
   "cell_type": "markdown",
   "metadata": {},
   "source": [
    "# Creating new columns to establish the profit made on movie and if the movie was profitable "
   ]
  },
  {
   "cell_type": "code",
   "execution_count": 4,
   "metadata": {},
   "outputs": [],
   "source": [
    "df['profit'] = df['worldwide_gross'] - df['production_budget']\n",
    "df['profitable'] = (df['worldwide_gross'] >= 2* df['production_budget'])\n",
    "\n",
    " "
   ]
  },
  {
   "cell_type": "markdown",
   "metadata": {},
   "source": [
    "# Transforming the dataset to relevant years"
   ]
  },
  {
   "cell_type": "code",
   "execution_count": 5,
   "metadata": {},
   "outputs": [],
   "source": [
    "#df1 = df.loc[:, ['production_budget','worldwide_gross','genre_ids','release_date','profit']]\n",
    "#df2 = df1.loc[:, ['profit','genre_ids']]\n",
    "df3 = df[(df['release_date'] >= 2012) & (df['release_date'] <= 2015)]\n",
    "df4 = df[(df['release_date'] >= 2016) & (df['release_date'] < 2019)]"
   ]
  },
  {
   "cell_type": "markdown",
   "metadata": {},
   "source": [
    "# Isolating the genres I want to put in use "
   ]
  },
  {
   "cell_type": "code",
   "execution_count": 6,
   "metadata": {},
   "outputs": [],
   "source": [
    " # 2013-2015\n",
    "d = df3.loc[df3['genre_ids'] == 'Drama'] \n",
    "a = df3.loc[df3['genre_ids'] == 'Action'] \n",
    "\n",
    "  #2016 -2018\n",
    "d1 = df4.loc[df4['genre_ids'] == 'Drama'] \n",
    "a1 = df4.loc[df4['genre_ids'] == 'Action'] "
   ]
  },
  {
   "cell_type": "markdown",
   "metadata": {},
   "source": [
    "# Isolating to just the profit column"
   ]
  },
  {
   "cell_type": "code",
   "execution_count": 7,
   "metadata": {},
   "outputs": [],
   "source": [
    "dp = d['profit'] #drama movie profit\n",
    "\n",
    "ap = a['profit'] #action movie profit\n",
    "\n",
    "d1p = d1['profit'] #drama movie profit(2016-2018)\n",
    "\n",
    "a1p = a1['profit'] #action movie profit(2016-2018)"
   ]
  },
  {
   "cell_type": "code",
   "execution_count": 14,
   "metadata": {},
   "outputs": [
    {
     "data": {
      "text/html": [
       "<div>\n",
       "<style scoped>\n",
       "    .dataframe tbody tr th:only-of-type {\n",
       "        vertical-align: middle;\n",
       "    }\n",
       "\n",
       "    .dataframe tbody tr th {\n",
       "        vertical-align: top;\n",
       "    }\n",
       "\n",
       "    .dataframe thead th {\n",
       "        text-align: right;\n",
       "    }\n",
       "</style>\n",
       "<table border=\"1\" class=\"dataframe\">\n",
       "  <thead>\n",
       "    <tr style=\"text-align: right;\">\n",
       "      <th></th>\n",
       "      <th>index</th>\n",
       "      <th>id</th>\n",
       "      <th>release_date</th>\n",
       "      <th>production_budget</th>\n",
       "      <th>worldwide_gross</th>\n",
       "      <th>genre_ids</th>\n",
       "      <th>profit</th>\n",
       "      <th>profitable</th>\n",
       "    </tr>\n",
       "  </thead>\n",
       "  <tbody>\n",
       "    <tr>\n",
       "      <th>0</th>\n",
       "      <td>#Horror</td>\n",
       "      <td>16</td>\n",
       "      <td>2015</td>\n",
       "      <td>1500000</td>\n",
       "      <td>0</td>\n",
       "      <td>Drama</td>\n",
       "      <td>-1500000</td>\n",
       "      <td>False</td>\n",
       "    </tr>\n",
       "    <tr>\n",
       "      <th>7</th>\n",
       "      <td>10 Days in a Madhouse</td>\n",
       "      <td>48</td>\n",
       "      <td>2015</td>\n",
       "      <td>12000000</td>\n",
       "      <td>14616</td>\n",
       "      <td>Drama</td>\n",
       "      <td>-11985384</td>\n",
       "      <td>False</td>\n",
       "    </tr>\n",
       "    <tr>\n",
       "      <th>12</th>\n",
       "      <td>12 Years a Slave</td>\n",
       "      <td>18</td>\n",
       "      <td>2013</td>\n",
       "      <td>20000000</td>\n",
       "      <td>181025343</td>\n",
       "      <td>Drama</td>\n",
       "      <td>161025343</td>\n",
       "      <td>True</td>\n",
       "    </tr>\n",
       "    <tr>\n",
       "      <th>39</th>\n",
       "      <td>23 Blast</td>\n",
       "      <td>64</td>\n",
       "      <td>2014</td>\n",
       "      <td>1000000</td>\n",
       "      <td>549185</td>\n",
       "      <td>Drama</td>\n",
       "      <td>-450815</td>\n",
       "      <td>False</td>\n",
       "    </tr>\n",
       "    <tr>\n",
       "      <th>45</th>\n",
       "      <td>3 Days to Kill</td>\n",
       "      <td>64</td>\n",
       "      <td>2014</td>\n",
       "      <td>28000000</td>\n",
       "      <td>38959900</td>\n",
       "      <td>Drama</td>\n",
       "      <td>10959900</td>\n",
       "      <td>False</td>\n",
       "    </tr>\n",
       "    <tr>\n",
       "      <th>...</th>\n",
       "      <td>...</td>\n",
       "      <td>...</td>\n",
       "      <td>...</td>\n",
       "      <td>...</td>\n",
       "      <td>...</td>\n",
       "      <td>...</td>\n",
       "      <td>...</td>\n",
       "      <td>...</td>\n",
       "    </tr>\n",
       "    <tr>\n",
       "      <th>5398</th>\n",
       "      <td>Wuthering Heights</td>\n",
       "      <td>30</td>\n",
       "      <td>2012</td>\n",
       "      <td>8000000</td>\n",
       "      <td>2721534</td>\n",
       "      <td>Drama</td>\n",
       "      <td>-5278466</td>\n",
       "      <td>False</td>\n",
       "    </tr>\n",
       "    <tr>\n",
       "      <th>5436</th>\n",
       "      <td>Your Sister's Sister</td>\n",
       "      <td>73</td>\n",
       "      <td>2012</td>\n",
       "      <td>120000</td>\n",
       "      <td>3090593</td>\n",
       "      <td>Drama</td>\n",
       "      <td>2970593</td>\n",
       "      <td>True</td>\n",
       "    </tr>\n",
       "    <tr>\n",
       "      <th>5439</th>\n",
       "      <td>Youth</td>\n",
       "      <td>99</td>\n",
       "      <td>2015</td>\n",
       "      <td>13000000</td>\n",
       "      <td>24001573</td>\n",
       "      <td>Drama</td>\n",
       "      <td>11001573</td>\n",
       "      <td>False</td>\n",
       "    </tr>\n",
       "    <tr>\n",
       "      <th>5445</th>\n",
       "      <td>Zero Dark Thirty</td>\n",
       "      <td>66</td>\n",
       "      <td>2012</td>\n",
       "      <td>52500000</td>\n",
       "      <td>134612435</td>\n",
       "      <td>Drama</td>\n",
       "      <td>82112435</td>\n",
       "      <td>True</td>\n",
       "    </tr>\n",
       "    <tr>\n",
       "      <th>5448</th>\n",
       "      <td>Zipper</td>\n",
       "      <td>57</td>\n",
       "      <td>2015</td>\n",
       "      <td>4500000</td>\n",
       "      <td>0</td>\n",
       "      <td>Drama</td>\n",
       "      <td>-4500000</td>\n",
       "      <td>False</td>\n",
       "    </tr>\n",
       "  </tbody>\n",
       "</table>\n",
       "<p>455 rows × 8 columns</p>\n",
       "</div>"
      ],
      "text/plain": [
       "                      index  id  release_date  production_budget  \\\n",
       "0                   #Horror  16          2015            1500000   \n",
       "7     10 Days in a Madhouse  48          2015           12000000   \n",
       "12         12 Years a Slave  18          2013           20000000   \n",
       "39                 23 Blast  64          2014            1000000   \n",
       "45           3 Days to Kill  64          2014           28000000   \n",
       "...                     ...  ..           ...                ...   \n",
       "5398      Wuthering Heights  30          2012            8000000   \n",
       "5436   Your Sister's Sister  73          2012             120000   \n",
       "5439                  Youth  99          2015           13000000   \n",
       "5445       Zero Dark Thirty  66          2012           52500000   \n",
       "5448                 Zipper  57          2015            4500000   \n",
       "\n",
       "      worldwide_gross genre_ids     profit  profitable  \n",
       "0                   0     Drama   -1500000       False  \n",
       "7               14616     Drama  -11985384       False  \n",
       "12          181025343     Drama  161025343        True  \n",
       "39             549185     Drama    -450815       False  \n",
       "45           38959900     Drama   10959900       False  \n",
       "...               ...       ...        ...         ...  \n",
       "5398          2721534     Drama   -5278466       False  \n",
       "5436          3090593     Drama    2970593        True  \n",
       "5439         24001573     Drama   11001573       False  \n",
       "5445        134612435     Drama   82112435        True  \n",
       "5448                0     Drama   -4500000       False  \n",
       "\n",
       "[455 rows x 8 columns]"
      ]
     },
     "execution_count": 14,
     "metadata": {},
     "output_type": "execute_result"
    }
   ],
   "source": [
    "d"
   ]
  },
  {
   "cell_type": "code",
   "execution_count": 20,
   "metadata": {},
   "outputs": [],
   "source": [
    "drama_prof12 = d.groupby('release_date')['profit'].mean()\n",
    "dp_index12 = list(drama_prof12.index)\n",
    "dp_vals12 = list(drama_prof12.values)"
   ]
  },
  {
   "cell_type": "code",
   "execution_count": 21,
   "metadata": {},
   "outputs": [],
   "source": [
    "drama_prof16 = d1.groupby('release_date')['profit'].mean()\n",
    "dp_index16 = list(drama_prof16.index)\n",
    "dp_vals16 = list(drama_prof16.values)"
   ]
  },
  {
   "cell_type": "code",
   "execution_count": 17,
   "metadata": {},
   "outputs": [
    {
     "data": {
      "text/plain": [
       "0        -1500000\n",
       "7       -11985384\n",
       "12      161025343\n",
       "39        -450815\n",
       "45       10959900\n",
       "          ...    \n",
       "5398     -5278466\n",
       "5436      2970593\n",
       "5439     11001573\n",
       "5445     82112435\n",
       "5448     -4500000\n",
       "Name: profit, Length: 455, dtype: int64"
      ]
     },
     "execution_count": 17,
     "metadata": {},
     "output_type": "execute_result"
    }
   ],
   "source": [
    "dp"
   ]
  },
  {
   "cell_type": "markdown",
   "metadata": {},
   "source": [
    "# Comparing the profit made on drama movies over 6 years"
   ]
  },
  {
   "cell_type": "code",
   "execution_count": 22,
   "metadata": {},
   "outputs": [
    {
     "name": "stdout",
     "output_type": "stream",
     "text": [
      "This is the average profit made for drama movies from 2012 to 2015: $46986430\n",
      "This is how dispersed the data from 2012 to 2015 is in relation to the mean : 4.69\n",
      "This is the average profit made for drama movies from 2016 to 2018: $58798066\n",
      "This is how dispersed the data from 2016 to 2019 is in relation to the mean : 1.27\n",
      "The average increased by: 25.13839846951556\n"
     ]
    },
    {
     "data": {
      "image/png": "[encoded data removed]",
      "text/plain": [
       "<Figure size 432x288 with 1 Axes>"
      ]
     },
     "metadata": {
      "needs_background": "light"
     },
     "output_type": "display_data"
    }
   ],
   "source": [
    "print('This is the average profit made for drama movies from 2012 to 2015: ${}'.format(int(dp.mean())))\n",
    "print('This is how dispersed the data from 2012 to 2015 is in relation to the mean : 4.69')\n",
    "print('This is the average profit made for drama movies from 2016 to 2018: ${}'.format(int(d1p.mean())))\n",
    "print('This is how dispersed the data from 2016 to 2019 is in relation to the mean : 1.27')\n",
    "print('The average increased by: {}'.format(11811636/46986430 *100))\n",
    "\n",
    "fig = plt.figure()\n",
    "plt.bar(dp_index12,dp_vals12)\n",
    "plt.bar(dp_index16,dp_vals16);\n",
    "fig.suptitle('Drama', fontsize=20);\n"
   ]
  },
  {
   "cell_type": "markdown",
   "metadata": {},
   "source": [
    "# Comparing the profit made on Action movies over 6 years"
   ]
  },
  {
   "cell_type": "code",
   "execution_count": 23,
   "metadata": {},
   "outputs": [],
   "source": [
    "action_prof12 = a.groupby('release_date')['profit'].mean()\n",
    "ap_index12 = list(action_prof12.index)\n",
    "ap_vals12 = list(action_prof12.values)\n",
    "\n",
    "action_prof16 = a1.groupby('release_date')['profit'].mean()\n",
    "ap_index16 = list(action_prof16.index)\n",
    "ap_vals16 = list(action_prof16.values)"
   ]
  },
  {
   "cell_type": "code",
   "execution_count": 24,
   "metadata": {},
   "outputs": [
    {
     "name": "stdout",
     "output_type": "stream",
     "text": [
      "This is the average profit made for actions movies from 2012 to 2015: $163502551\n",
      "This is how dispersed the data from 2012 to 2015 is in relation to the mean : 2.61\n",
      "This is the average profit made for actions movies from 2016 to 2018: $212700944\n",
      "This is how dispersed the data from 2016 to 2018 is in relation to the mean : 3.23\n",
      "The average increased by: 30.090290762497034\n"
     ]
    },
    {
     "data": {
      "image/png": "[encoded data removed]",
      "text/plain": [
       "<Figure size 432x288 with 1 Axes>"
      ]
     },
     "metadata": {
      "needs_background": "light"
     },
     "output_type": "display_data"
    }
   ],
   "source": [
    "print('This is the average profit made for actions movies from 2012 to 2015: ${}'.format(int(ap.mean())))\n",
    "print('This is how dispersed the data from 2012 to 2015 is in relation to the mean : 2.61')\n",
    "print('This is the average profit made for actions movies from 2016 to 2018: ${}'.format(int(a1p.mean())))\n",
    "print('This is how dispersed the data from 2016 to 2018 is in relation to the mean : 3.23')\n",
    "print('The average increased by: {}'.format((49198393/163502551 *100)))\n",
    "\n",
    "\n",
    "fig = plt.figure()\n",
    "plt.bar(ap_index12,ap_vals12)\n",
    "plt.bar(ap_index16,ap_vals16);\n",
    "fig.suptitle('Action', fontsize=20);\n"
   ]
  },
  {
   "cell_type": "markdown",
   "metadata": {},
   "source": [
    "# Isolating the genres I want to put in use "
   ]
  },
  {
   "cell_type": "code",
   "execution_count": 30,
   "metadata": {},
   "outputs": [],
   "source": [
    "t = df3.loc[df3['genre_ids'] == 'Thriller'] \n",
    "ad = df3.loc[df3['genre_ids'] == 'Adventure'] \n",
    "\n",
    "t1 = df4.loc[df4['genre_ids'] == 'Thriller'] \n",
    "ad1 = df4.loc[df4['genre_ids'] == 'Adventure'] "
   ]
  },
  {
   "cell_type": "markdown",
   "metadata": {},
   "source": [
    "# Isolating to just the profit column"
   ]
  },
  {
   "cell_type": "code",
   "execution_count": 31,
   "metadata": {},
   "outputs": [],
   "source": [
    "tp = t['profit']  # thriller movie profit\n",
    "adp = ad['profit'] # adventure movie profit\n",
    "\n",
    "t1p = t1['profit'] # thriller movie profit - (2016-2018)\n",
    "ad1p = ad1['profit']# adventure movie profit - (2016-2018)"
   ]
  },
  {
   "cell_type": "code",
   "execution_count": 32,
   "metadata": {},
   "outputs": [],
   "source": [
    "thriller_prof12 = t.groupby('release_date')['profit'].mean()\n",
    "tp_index12 = list(thriller_prof12.index)\n",
    "tp_vals12 = list(thriller_prof12.values)\n",
    "\n",
    "thriller_prof16 = t1.groupby('release_date')['profit'].mean()\n",
    "tp_index16 = list(thriller_prof16.index)\n",
    "tp_vals16 = list(thriller_prof16.values)"
   ]
  },
  {
   "cell_type": "markdown",
   "metadata": {},
   "source": [
    "# Comparing the profit made on Thriller movies over 6 years"
   ]
  },
  {
   "cell_type": "code",
   "execution_count": 33,
   "metadata": {},
   "outputs": [
    {
     "name": "stdout",
     "output_type": "stream",
     "text": [
      "This is the average profit made for thriller movies from 2012 to 2015: $60207664\n",
      "This is how dispersed the data from 2012 to 2015 is in relation to the mean : 1.72\n",
      "This is the average profit made for thriller movies from 2016 to 2018: $73565937\n",
      "This is how dispersed the data from 2016 to 2018 is in relation to the mean : 1.42\n",
      "The average increased by: 22.18699765531511\n"
     ]
    },
    {
     "data": {
      "image/png": "[encoded data removed]",
      "text/plain": [
       "<Figure size 432x288 with 1 Axes>"
      ]
     },
     "metadata": {
      "needs_background": "light"
     },
     "output_type": "display_data"
    }
   ],
   "source": [
    "print('This is the average profit made for thriller movies from 2012 to 2015: ${}'.format(int(tp.mean())))\n",
    "print('This is how dispersed the data from 2012 to 2015 is in relation to the mean : 1.72')\n",
    "print('This is the average profit made for thriller movies from 2016 to 2018: ${}'.format(int(t1p.mean())))\n",
    "print('This is how dispersed the data from 2016 to 2018 is in relation to the mean : 1.42')\n",
    "print('The average increased by: {}'.format(13358273/60207664 *100))\n",
    "\n",
    "fig = plt.figure()\n",
    "plt.bar(tp_index12,tp_vals12)\n",
    "plt.bar(tp_index16,tp_vals16);\n",
    "fig.suptitle('Thriller', fontsize=20);\n"
   ]
  },
  {
   "cell_type": "markdown",
   "metadata": {},
   "source": [
    "# Comparing the profit made on Adventure movies over 6 years"
   ]
  },
  {
   "cell_type": "code",
   "execution_count": 34,
   "metadata": {},
   "outputs": [],
   "source": [
    "adventure_prof12 = ad.groupby('release_date')['profit'].mean()\n",
    "ad_index12 = list(adventure_prof12.index)\n",
    "ad_vals12 = list(adventure_prof12.values)\n",
    "\n",
    "adventure_prof16 = ad1.groupby('release_date')['profit'].mean()\n",
    "ad_index16 = list(adventure_prof16.index)\n",
    "ad_vals16 = list(adventure_prof16.values)"
   ]
  },
  {
   "cell_type": "code",
   "execution_count": 35,
   "metadata": {},
   "outputs": [
    {
     "name": "stdout",
     "output_type": "stream",
     "text": [
      "This is the average profit made for Adventure movies from 2012 to 2015: $247217835\n",
      "This is how dispersed the data from 2012 to 2015 is in relation to the mean : 3.02\n",
      "This is the average profit made for Adventure movies from 2016 to 2018: $295843771\n",
      "This is how dispersed the data from 2016 to 2018 is in relation to the mean : 3.45\n",
      "The average increased by: 19.669266984722196\n"
     ]
    },
    {
     "data": {
      "image/png": "[encoded data removed]",
      "text/plain": [
       "<Figure size 432x288 with 1 Axes>"
      ]
     },
     "metadata": {
      "needs_background": "light"
     },
     "output_type": "display_data"
    }
   ],
   "source": [
    "print('This is the average profit made for Adventure movies from 2012 to 2015: ${}'.format(int(adp.mean())))\n",
    "print('This is how dispersed the data from 2012 to 2015 is in relation to the mean : 3.02')\n",
    "print('This is the average profit made for Adventure movies from 2016 to 2018: ${}'.format(int(ad1p.mean())))\n",
    "print('This is how dispersed the data from 2016 to 2018 is in relation to the mean : 3.45')\n",
    "print('The average increased by: {}'.format(48625936/247217835 *100))\n",
    "\n",
    "fig = plt.figure()\n",
    "plt.bar(ad_index12,ad_vals12)\n",
    "plt.bar(ad_index16,ad_vals16);\n",
    "fig.suptitle('Adventure', fontsize=20);\n"
   ]
  },
  {
   "cell_type": "markdown",
   "metadata": {},
   "source": [
    "# looping through all of them!\n"
   ]
  },
  {
   "cell_type": "code",
   "execution_count": 40,
   "metadata": {},
   "outputs": [
    {
     "data": {
      "image/png": "[encoded data removed]",
      "text/plain": [
       "<Figure size 432x288 with 1 Axes>"
      ]
     },
     "metadata": {
      "needs_background": "light"
     },
     "output_type": "display_data"
    },
    {
     "data": {
      "image/png": "[encoded data removed]",
      "text/plain": [
       "<Figure size 432x288 with 1 Axes>"
      ]
     },
     "metadata": {
      "needs_background": "light"
     },
     "output_type": "display_data"
    },
    {
     "data": {
      "image/png": "[encoded data removed]",
      "text/plain": [
       "<Figure size 432x288 with 1 Axes>"
      ]
     },
     "metadata": {
      "needs_background": "light"
     },
     "output_type": "display_data"
    },
    {
     "data": {
      "image/png": "[encoded data removed]",
      "text/plain": [
       "<Figure size 432x288 with 1 Axes>"
      ]
     },
     "metadata": {
      "needs_background": "light"
     },
     "output_type": "display_data"
    },
    {
     "data": {
      "image/png": "[encoded data removed]",
      "text/plain": [
       "<Figure size 432x288 with 1 Axes>"
      ]
     },
     "metadata": {
      "needs_background": "light"
     },
     "output_type": "display_data"
    },
    {
     "data": {
      "image/png": "[encoded data removed]",
      "text/plain": [
       "<Figure size 432x288 with 1 Axes>"
      ]
     },
     "metadata": {
      "needs_background": "light"
     },
     "output_type": "display_data"
    },
    {
     "data": {
      "image/png": "[encoded data removed]",
      "text/plain": [
       "<Figure size 432x288 with 1 Axes>"
      ]
     },
     "metadata": {
      "needs_background": "light"
     },
     "output_type": "display_data"
    },
    {
     "data": {
      "image/png": "[encoded data removed]",
      "text/plain": [
       "<Figure size 432x288 with 1 Axes>"
      ]
     },
     "metadata": {
      "needs_background": "light"
     },
     "output_type": "display_data"
    },
    {
     "data": {
      "image/png": "[encoded data removed]",
      "text/plain": [
       "<Figure size 432x288 with 1 Axes>"
      ]
     },
     "metadata": {
      "needs_background": "light"
     },
     "output_type": "display_data"
    },
    {
     "data": {
      "image/png": "[encoded data removed]",
      "text/plain": [
       "<Figure size 432x288 with 1 Axes>"
      ]
     },
     "metadata": {
      "needs_background": "light"
     },
     "output_type": "display_data"
    },
    {
     "data": {
      "image/png": "[encoded data removed]",
      "text/plain": [
       "<Figure size 432x288 with 1 Axes>"
      ]
     },
     "metadata": {
      "needs_background": "light"
     },
     "output_type": "display_data"
    },
    {
     "data": {
      "image/png": "[encoded data removed]",
      "text/plain": [
       "<Figure size 432x288 with 1 Axes>"
      ]
     },
     "metadata": {
      "needs_background": "light"
     },
     "output_type": "display_data"
    },
    {
     "data": {
      "image/png": "[encoded data removed]",
      "text/plain": [
       "<Figure size 432x288 with 1 Axes>"
      ]
     },
     "metadata": {
      "needs_background": "light"
     },
     "output_type": "display_data"
    },
    {
     "data": {
      "image/png": "[encoded data removed]",
      "text/plain": [
       "<Figure size 432x288 with 1 Axes>"
      ]
     },
     "metadata": {
      "needs_background": "light"
     },
     "output_type": "display_data"
    },
    {
     "data": {
      "image/png": "[encoded data removed]",
      "text/plain": [
       "<Figure size 432x288 with 1 Axes>"
      ]
     },
     "metadata": {
      "needs_background": "light"
     },
     "output_type": "display_data"
    },
    {
     "data": {
      "image/png": "[encoded data removed]",
      "text/plain": [
       "<Figure size 432x288 with 1 Axes>"
      ]
     },
     "metadata": {
      "needs_background": "light"
     },
     "output_type": "display_data"
    },
    {
     "data": {
      "image/png": "[encoded data removed]",
      "text/plain": [
       "<Figure size 432x288 with 1 Axes>"
      ]
     },
     "metadata": {
      "needs_background": "light"
     },
     "output_type": "display_data"
    },
    {
     "data": {
      "image/png": "[encoded data removed]",
      "text/plain": [
       "<Figure size 432x288 with 1 Axes>"
      ]
     },
     "metadata": {
      "needs_background": "light"
     },
     "output_type": "display_data"
    },
    {
     "data": {
      "image/png": "[encoded data removed]",
      "text/plain": [
       "<Figure size 432x288 with 1 Axes>"
      ]
     },
     "metadata": {
      "needs_background": "light"
     },
     "output_type": "display_data"
    }
   ],
   "source": [
    "graphs_dict = {}\n",
    "\n",
    "for genre in list(df3['genre_ids'].unique()):\n",
    "    \n",
    "    a1 = df3.loc[df3['genre_ids'] == genre]   \n",
    "    a2 = df4.loc[df4['genre_ids'] == genre] \n",
    "    \n",
    "    a_prof12 = a1.groupby('release_date')['profit'].mean()\n",
    "    a_index12 = list(a_prof12.index)\n",
    "    a_vals12 = list(a_prof12.values)\n",
    "\n",
    "    a_prof16 = a2.groupby('release_date')['profit'].mean()\n",
    "    a_index16 = list(a_prof16.index)\n",
    "    a_vals16 = list(a_prof16.values)\n",
    "    \n",
    "    fig = plt.figure()\n",
    "    plt.bar(a_index12,a_vals12)\n",
    "    plt.bar(a_index16,a_vals16);\n",
    "    fig.suptitle(genre, fontsize=20);\n",
    "    \n",
    "    graphs_dict[genre] = fig"
   ]
  },
  {
   "cell_type": "code",
   "execution_count": 41,
   "metadata": {},
   "outputs": [
    {
     "data": {
      "image/png": "[encoded data removed]",
      "text/plain": [
       "<Figure size 432x288 with 1 Axes>"
      ]
     },
     "execution_count": 41,
     "metadata": {},
     "output_type": "execute_result"
    }
   ],
   "source": [
    "graphs_dict['Thriller']"
   ]
  },
  {
   "cell_type": "code",
   "execution_count": null,
   "metadata": {},
   "outputs": [],
   "source": []
  }
 ],
 "metadata": {
  "kernelspec": {
   "display_name": "Python (learn-env)",
   "language": "python",
   "name": "learn-env"
  },
  "language_info": {
   "codemirror_mode": {
    "name": "ipython",
    "version": 3
   },
   "file_extension": ".py",
   "mimetype": "text/x-python",
   "name": "python",
   "nbconvert_exporter": "python",
   "pygments_lexer": "ipython3",
   "version": "3.8.5"
  }
 },
 "nbformat": 4,
 "nbformat_minor": 4
}
